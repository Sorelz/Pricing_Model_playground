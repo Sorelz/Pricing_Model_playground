{
 "cells": [
  {
   "cell_type": "markdown",
   "metadata": {},
   "source": [
    "Tree is a collection of entities called node connected by edges (relationships between nodes). Each node contains value or data. Each node can have a child node (or not). First node= root node. <br>\n",
    "Leafs are the \"last nodes\" from the tree, ie = nodes without children nodes. <br>\n",
    "Height OF A TREE= length of the longest path to a leaf.<br>\n",
    "depth OF A NODE = length of the path to its root node.\n"
   ]
  },
  {
   "cell_type": "markdown",
   "metadata": {},
   "source": [
    "# Binary Tree"
   ]
  },
  {
   "cell_type": "markdown",
   "metadata": {},
   "source": [
    "Means each node has only 2 child in max: left and right child."
   ]
  },
  {
   "cell_type": "code",
   "execution_count": 47,
   "metadata": {},
   "outputs": [],
   "source": [
    "class BinaryTree:\n",
    "    \n",
    "    def __init__(self, value):\n",
    "        self.value = value\n",
    "        self.left_child = None\n",
    "        self.right_child = None\n",
    "        \n",
    "    def insert_left(self, value):\n",
    "        if self.left_child == None:\n",
    "            self.left_child = BinaryTree(value)\n",
    "        else:\n",
    "            new_node = BinaryTree(value)\n",
    "            new_node.left_child = self.left_child\n",
    "            self.left_child = new_node\n",
    "            \n",
    "    def insert_right(self, value):\n",
    "        if self.right_child == None:\n",
    "            self.right_child = BinaryTree(value)\n",
    "        else:\n",
    "            new_node = BinaryTree(value)\n",
    "            new_node.right_child = self.right_child\n",
    "            self.right_child = new_node\n",
    "            \n",
    "    def pre_order(self):\n",
    "        print(self.value)\n",
    "\n",
    "        if self.left_child:\n",
    "            self.left_child.pre_order()\n",
    "\n",
    "        if self.right_child:\n",
    "            self.right_child.pre_order()\n",
    "    \n",
    "    def post_order(self):\n",
    "        if self.left_child:\n",
    "            self.left_child.post_order()\n",
    "\n",
    "        if self.right_child:\n",
    "            self.right_child.post_order()\n",
    "\n",
    "        print(self.value)\n",
    "        \n",
    "    def bfs(self):\n",
    "    queue = Queue()\n",
    "    queue.put(self)\n",
    "\n",
    "    while not queue.empty():\n",
    "        current_node = queue.get()\n",
    "        print(current_node.value)\n",
    "\n",
    "        if current_node.left_child:\n",
    "            queue.put(current_node.left_child)\n",
    "\n",
    "        if current_node.right_child:\n",
    "            queue.put(current_node.right_child)\n",
    "            "
   ]
  },
  {
   "cell_type": "code",
   "execution_count": 11,
   "metadata": {
    "collapsed": true
   },
   "outputs": [],
   "source": [
    "#lets construct [a,[b,c],[None,d,e,f]]"
   ]
  },
  {
   "cell_type": "code",
   "execution_count": 44,
   "metadata": {},
   "outputs": [],
   "source": [
    "a_node=BinaryTree('a')\n",
    "a_node.insert_left('b')\n",
    "a_node.insert_right('c')\n",
    "b_node=a_node.left_child\n",
    "b_node.insert_right('d')\n",
    "c_node=a_node.right_child\n",
    "c_node.insert_left('e')\n",
    "c_node.insert_right('f')\n",
    "d_node=b_node.right_child\n",
    "e_node=c_node.left_child\n",
    "f_node=c_node.right_child"
   ]
  },
  {
   "cell_type": "code",
   "execution_count": 46,
   "metadata": {},
   "outputs": [
    {
     "name": "stdout",
     "output_type": "stream",
     "text": [
      "a\n",
      "b\n",
      "d\n",
      "c\n",
      "e\n",
      "f\n"
     ]
    }
   ],
   "source": [
    "a_node.pre_order()"
   ]
  },
  {
   "cell_type": "markdown",
   "metadata": {},
   "source": [
    "## Tree traversal"
   ]
  },
  {
   "cell_type": "markdown",
   "metadata": {},
   "source": [
    "DFS: Depth-First Search. Leaf traversal. <br>\n",
    "BFS: Breadth-First Search. Level traversal. <br>\n",
    "DFS for [1,2,3,4,5,6,7]"
   ]
  },
  {
   "cell_type": "code",
   "execution_count": 42,
   "metadata": {
    "collapsed": true
   },
   "outputs": [],
   "source": []
  },
  {
   "cell_type": "code",
   "execution_count": null,
   "metadata": {
    "collapsed": true
   },
   "outputs": [],
   "source": []
  },
  {
   "cell_type": "code",
   "execution_count": null,
   "metadata": {
    "collapsed": true
   },
   "outputs": [],
   "source": []
  },
  {
   "cell_type": "code",
   "execution_count": null,
   "metadata": {
    "collapsed": true
   },
   "outputs": [],
   "source": []
  }
 ],
 "metadata": {
  "kernelspec": {
   "display_name": "Python 3",
   "language": "python",
   "name": "python3"
  },
  "language_info": {
   "codemirror_mode": {
    "name": "ipython",
    "version": 3
   },
   "file_extension": ".py",
   "mimetype": "text/x-python",
   "name": "python",
   "nbconvert_exporter": "python",
   "pygments_lexer": "ipython3",
   "version": "3.6.3"
  }
 },
 "nbformat": 4,
 "nbformat_minor": 2
}
