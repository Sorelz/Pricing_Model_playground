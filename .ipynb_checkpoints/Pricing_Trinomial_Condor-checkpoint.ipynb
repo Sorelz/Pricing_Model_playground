{
 "cells": [
  {
   "cell_type": "code",
   "execution_count": 1,
   "metadata": {
    "collapsed": true
   },
   "outputs": [],
   "source": [
    "import numpy as np\n",
    "import matplotlib.pyplot as plt"
   ]
  },
  {
   "cell_type": "markdown",
   "metadata": {},
   "source": [
    "### Computing Equivalent Martingale Measure in Trinomial Model"
   ]
  },
  {
   "cell_type": "code",
   "execution_count": 2,
   "metadata": {
    "collapsed": true
   },
   "outputs": [],
   "source": [
    "def compute_U_D_M_R(mu,h,r):\n",
    "    U=np.exp(mu+h)\n",
    "    D=np.exp(mu-h)\n",
    "    M=np.exp(mu)\n",
    "    R=np.exp(r)\n",
    "    return U,D,M,R"
   ]
  },
  {
   "cell_type": "code",
   "execution_count": 3,
   "metadata": {
    "collapsed": true
   },
   "outputs": [],
   "source": [
    "def compute_q_Q(p_Q,U,D,M,R):\n",
    "    q_Q=np.divide(R-M,D-M)+np.dot(p_Q,np.divide(U-M,D-M))\n",
    "    return q_Q"
   ]
  },
  {
   "cell_type": "markdown",
   "metadata": {},
   "source": [
    "#### Our trinomial model with parameters mu=0.02, h=0.12, r=0.01"
   ]
  },
  {
   "cell_type": "code",
   "execution_count": 4,
   "metadata": {
    "collapsed": true
   },
   "outputs": [],
   "source": [
    "U,D,M,R=compute_U_D_M_R(0.02,0.12,0.01) \n",
    "p_Q=np.arange(0,1,0.01) #grid of values for p_Q probability\n",
    "q_Q=compute_q_Q(p_Q,U,D,M,R) #the corresponding q_Q depending on p_Q"
   ]
  },
  {
   "cell_type": "code",
   "execution_count": 5,
   "metadata": {
    "collapsed": true,
    "scrolled": true
   },
   "outputs": [],
   "source": [
    "#Filter out conditions on probabilities: p_Q>0,q_Q>0 and p_Q+q_Q<1\n",
    "p_Q=p_Q[q_Q>=0]\n",
    "q_Q=q_Q[q_Q>=0]\n",
    "q=q_Q[p_Q+q_Q<1]\n",
    "p=p_Q[p_Q+q_Q<1]"
   ]
  },
  {
   "cell_type": "markdown",
   "metadata": {},
   "source": [
    "##### Trivial EMM"
   ]
  },
  {
   "cell_type": "code",
   "execution_count": 6,
   "metadata": {
    "collapsed": true
   },
   "outputs": [],
   "source": [
    "q_Q=compute_q_Q(0,U,D,M,R)"
   ]
  },
  {
   "cell_type": "markdown",
   "metadata": {},
   "source": [
    "###### All possible EMM"
   ]
  },
  {
   "cell_type": "code",
   "execution_count": 7,
   "metadata": {},
   "outputs": [
    {
     "data": {
      "image/png": "[encoded data removed]",
      "text/plain": [
       "<matplotlib.figure.Figure at 0x116de8a20>"
      ]
     },
     "metadata": {},
     "output_type": "display_data"
    }
   ],
   "source": [
    "plt.plot(p,q)\n",
    "plt.title(\"All possible EMMs\")\n",
    "plt.xlabel(\"p\")\n",
    "plt.ylabel(\"q\")\n",
    "plt.show()"
   ]
  },
  {
   "cell_type": "code",
   "execution_count": 8,
   "metadata": {
    "collapsed": true
   },
   "outputs": [],
   "source": [
    "def bond_price(B0,R,T):\n",
    "    Bond=np.zeros((T+1,1))\n",
    "    temp=B0\n",
    "    for t in range(T+1):\n",
    "        Bond[t]=temp\n",
    "        temp*=R\n",
    "    return Bond"
   ]
  },
  {
   "cell_type": "code",
   "execution_count": 79,
   "metadata": {
    "collapsed": true
   },
   "outputs": [],
   "source": [
    "def stock_price(S0,t,T,nu,nd,U,D,M):\n",
    "    n=1+2*t\n",
    "    St=np.zeros((n,1))\n",
    "    for i in range(n):\n",
    "        St[=S0*(U**nu)*(D**nd)*(M**(t-nu-nd))\n",
    "    return St"
   ]
  },
  {
   "cell_type": "code",
   "execution_count": 106,
   "metadata": {
    "collapsed": true
   },
   "outputs": [],
   "source": [
    "ST=stock_price(3,7,7,U,D,M)"
   ]
  },
  {
   "cell_type": "code",
   "execution_count": 110,
   "metadata": {},
   "outputs": [
    {
     "data": {
      "text/plain": [
       "3.0606040200802682"
      ]
     },
     "execution_count": 110,
     "metadata": {},
     "output_type": "execute_result"
    }
   ],
   "source": [
    "ST"
   ]
  },
  {
   "cell_type": "markdown",
   "metadata": {},
   "source": [
    "#### Let's price the derivative whose payoff is given by:\n",
    "\n",
    "$$\n",
    "f_{1,1}(S_T)=\n",
    "\\left\\{\n",
    "    \\begin{array}{lllll}\n",
    "        0 \\hspace{5cm} \\text{ if } x\\in \\Big(0,\\dfrac{3}{2}] \\\\\n",
    "        S_T-\\dfrac{3}{2} \\hspace{3.2cm} \\text{ if } x\\in \\Big(\\dfrac{3}{2},\\dfrac{5}{2}\\Big] \\\\\n",
    "        1 \\hspace{5cm} \\text{ if } x\\in \\Big(\\dfrac{5}{2},\\dfrac{7}{2}\\Big]\\\\\n",
    "        -S_T + \\dfrac{9}{2} \\hspace{2.92cm} \\text{ if } x \\in \\Big(\\dfrac{7}{2},\\dfrac{9}{2}\\Big]\\\\\n",
    "        0 \\hspace{5cm} \\text{ if } x > \\dfrac{9}{2}\n",
    "    \\end{array}\n",
    "\\right.\n",
    "$$"
   ]
  },
  {
   "cell_type": "code",
   "execution_count": 100,
   "metadata": {
    "collapsed": true
   },
   "outputs": [],
   "source": [
    "def f_ST(ST):\n",
    "    if 3/2<ST<=5/2:\n",
    "        f=ST-3/2\n",
    "    elif(5/2<ST<=7/2):\n",
    "        f=1\n",
    "    elif 7/2<ST<=9/2:\n",
    "        f=-ST+9/2\n",
    "    else:\n",
    "        f=0\n",
    "    return f"
   ]
  },
  {
   "cell_type": "code",
   "execution_count": 108,
   "metadata": {},
   "outputs": [
    {
     "data": {
      "text/plain": [
       "1"
      ]
     },
     "execution_count": 108,
     "metadata": {},
     "output_type": "execute_result"
    }
   ],
   "source": [
    "f_ST(ST)"
   ]
  },
  {
   "cell_type": "code",
   "execution_count": null,
   "metadata": {
    "collapsed": true
   },
   "outputs": [],
   "source": [
    "import math\n",
    "import numpy as np\n",
    "\n",
    "\n",
    "class TrinomialTreeOption(BinomialTreeOption):\n",
    "\n",
    "    def _setup_parameters_(self):\n",
    "        \"\"\" Required calculations for the model \"\"\"\n",
    "        self.u = math.exp(self.sigma*math.sqrt(2.*self.dt))\n",
    "        self.d = 1/self.u\n",
    "        self.m = 1\n",
    "        self.qu = ((math.exp((self.r-self.div) *\n",
    "                             self.dt/2.) -\n",
    "                    math.exp(-self.sigma *\n",
    "                             math.sqrt(self.dt/2.))) /\n",
    "                   (math.exp(self.sigma *\n",
    "                             math.sqrt(self.dt/2.)) -\n",
    "                    math.exp(-self.sigma *\n",
    "                             math.sqrt(self.dt/2.))))**2\n",
    "        self.qd = ((math.exp(self.sigma *\n",
    "                             math.sqrt(self.dt/2.)) -\n",
    "                    math.exp((self.r-self.div) *\n",
    "                             self.dt/2.)) /\n",
    "                   (math.exp(self.sigma *\n",
    "                             math.sqrt(self.dt/2.)) -\n",
    "                    math.exp(-self.sigma *\n",
    "                             math.sqrt(self.dt/2.))))**2.\n",
    "\n",
    "        self.qm = 1 - self.qu - self.qd\n",
    "\n",
    "    def _initialize_stock_price_tree_(self):\n",
    "        \"\"\" Initialize a 2D tree at t=0 \"\"\"\n",
    "        self.STs = [np.array([self.S0])]\n",
    "\n",
    "        for i in range(self.N):\n",
    "            prev_nodes = self.STs[-1]\n",
    "            self.ST = np.concatenate(\n",
    "                (prev_nodes*self.u, [prev_nodes[-1]*self.m,\n",
    "                                     prev_nodes[-1]*self.d]))\n",
    "            self.STs.append(self.ST)\n",
    "\n",
    "    def _traverse_tree_(self, payoffs):\n",
    "        \"\"\" Traverse the tree backwards \"\"\"\n",
    "        for i in reversed(range(self.N)):\n",
    "            payoffs = (payoffs[:-2] * self.qu +\n",
    "                       payoffs[1:-1] * self.qm +\n",
    "                       payoffs[2:] * self.qd) * self.df\n",
    "\n",
    "            if not self.is_european:\n",
    "                payoffs = self.__check_early_exercise__(payoffs,\n",
    "                                                        i)\n",
    "\n",
    "        return payoffs\n",
    "\n",
    "if __name__ == \"__main__\":\n",
    "    from TrinomialTreeOption import TrinomialTreeOption\n",
    "    print \"European put:\", TrinomialTreeOption(\n",
    "        50, 50, 0.05, 0.5, 2, {\"sigma\": 0.3, \"is_call\": False}).price()\n",
    "    print \"American put:\", TrinomialTreeOption(\n",
    "        50, 50, 0.05, 0.5, 2,  {\"sigma\": 0.3, \"is_call\": False, \"is_eu\": False}).price()"
   ]
  },
  {
   "cell_type": "code",
   "execution_count": null,
   "metadata": {
    "collapsed": true
   },
   "outputs": [],
   "source": []
  },
  {
   "cell_type": "code",
   "execution_count": null,
   "metadata": {
    "collapsed": true
   },
   "outputs": [],
   "source": []
  },
  {
   "cell_type": "code",
   "execution_count": null,
   "metadata": {
    "collapsed": true
   },
   "outputs": [],
   "source": []
  }
 ],
 "metadata": {
  "kernelspec": {
   "display_name": "Python 3",
   "language": "python",
   "name": "python3"
  },
  "language_info": {
   "codemirror_mode": {
    "name": "ipython",
    "version": 3
   },
   "file_extension": ".py",
   "mimetype": "text/x-python",
   "name": "python",
   "nbconvert_exporter": "python",
   "pygments_lexer": "ipython3",
   "version": "3.6.3"
  }
 },
 "nbformat": 4,
 "nbformat_minor": 2
}
